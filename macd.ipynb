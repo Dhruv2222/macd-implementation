{
 "cells": [
  {
   "cell_type": "code",
   "execution_count": 1,
   "metadata": {},
   "outputs": [],
   "source": [
    "import numpy as np\n",
    "import pandas as pd\n",
    "import yfinance as yf"
   ]
  },
  {
   "cell_type": "code",
   "execution_count": 2,
   "metadata": {},
   "outputs": [
    {
     "name": "stdout",
     "output_type": "stream",
     "text": [
      "[*********************100%%**********************]  1 of 1 completed\n"
     ]
    }
   ],
   "source": [
    "df = yf.download('AAPL').reset_index()"
   ]
  },
  {
   "cell_type": "code",
   "execution_count": 3,
   "metadata": {},
   "outputs": [],
   "source": [
    "def get_macd(df, is_daily, is_stock):\n",
    "    if is_daily:\n",
    "        factor = 1\n",
    "        col_prefix = 'daily'\n",
    "    else:\n",
    "        factor = 5 if is_stock else 7\n",
    "        col_prefix = 'weekly'\n",
    "    # Obtain the moving averages for the MACD\n",
    "    slow_ma = df['Close'].ewm(span=factor*26, adjust=False).mean()\n",
    "    fast_ma = df['Close'].ewm(span=factor*12, adjust=False).mean()\n",
    "    # Calculate the MACD and then use that to generate the signal line\n",
    "    \n",
    "    df.loc[:, col_prefix + '_macd'] = fast_ma - slow_ma\n",
    "    df.loc[:, col_prefix + '_signal'] = (\n",
    "        (fast_ma - slow_ma)\n",
    "        .ewm(span=factor*9, adjust = False)\n",
    "        .mean()\n",
    "    )\n",
    "\n",
    "    return df.dropna()"
   ]
  },
  {
   "cell_type": "code",
   "execution_count": 4,
   "metadata": {},
   "outputs": [],
   "source": [
    "df = get_macd(df, is_daily=True, is_stock=True)\n",
    "df = get_macd(df, is_daily=False, is_stock=True)"
   ]
  },
  {
   "cell_type": "code",
   "execution_count": 5,
   "metadata": {},
   "outputs": [],
   "source": [
    "df.to_csv('output.csv')"
   ]
  },
  {
   "cell_type": "code",
   "execution_count": null,
   "metadata": {},
   "outputs": [],
   "source": []
  },
  {
   "cell_type": "code",
   "execution_count": null,
   "metadata": {},
   "outputs": [],
   "source": []
  }
 ],
 "metadata": {
  "kernelspec": {
   "display_name": "Python 3",
   "language": "python",
   "name": "python3"
  },
  "language_info": {
   "codemirror_mode": {
    "name": "ipython",
    "version": 3
   },
   "file_extension": ".py",
   "mimetype": "text/x-python",
   "name": "python",
   "nbconvert_exporter": "python",
   "pygments_lexer": "ipython3",
   "version": "3.11.1"
  }
 },
 "nbformat": 4,
 "nbformat_minor": 2
}
